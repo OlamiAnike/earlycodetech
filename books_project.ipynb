{
 "cells": [
  {
   "cell_type": "markdown",
   "metadata": {},
   "source": [
    "# BESTSELLER WITH CATEGORIES PROJECT"
   ]
  },
  {
   "cell_type": "code",
   "execution_count": 25,
   "metadata": {},
   "outputs": [],
   "source": [
    "import numpy as np\n",
    "import pandas as pd\n",
    "import matplotlib.pyplot as plt\n",
    "%matplotlib inline\n",
    "import seaborn as sns"
   ]
  },
  {
   "cell_type": "code",
   "execution_count": 26,
   "metadata": {},
   "outputs": [],
   "source": [
    "books = pd.read_csv('bestsellers with categories.csv')"
   ]
  },
  {
   "cell_type": "code",
   "execution_count": 27,
   "metadata": {},
   "outputs": [
    {
     "data": {
      "text/html": [
       "<div>\n",
       "<style scoped>\n",
       "    .dataframe tbody tr th:only-of-type {\n",
       "        vertical-align: middle;\n",
       "    }\n",
       "\n",
       "    .dataframe tbody tr th {\n",
       "        vertical-align: top;\n",
       "    }\n",
       "\n",
       "    .dataframe thead th {\n",
       "        text-align: right;\n",
       "    }\n",
       "</style>\n",
       "<table border=\"1\" class=\"dataframe\">\n",
       "  <thead>\n",
       "    <tr style=\"text-align: right;\">\n",
       "      <th></th>\n",
       "      <th>Name</th>\n",
       "      <th>Author</th>\n",
       "      <th>User Rating</th>\n",
       "      <th>Reviews</th>\n",
       "      <th>Price</th>\n",
       "      <th>Year</th>\n",
       "      <th>Genre</th>\n",
       "    </tr>\n",
       "  </thead>\n",
       "  <tbody>\n",
       "    <tr>\n",
       "      <th>0</th>\n",
       "      <td>10-Day Green Smoothie Cleanse</td>\n",
       "      <td>JJ Smith</td>\n",
       "      <td>4.7</td>\n",
       "      <td>17350</td>\n",
       "      <td>8</td>\n",
       "      <td>2016</td>\n",
       "      <td>Non Fiction</td>\n",
       "    </tr>\n",
       "    <tr>\n",
       "      <th>1</th>\n",
       "      <td>11/22/63: A Novel</td>\n",
       "      <td>Stephen King</td>\n",
       "      <td>4.6</td>\n",
       "      <td>2052</td>\n",
       "      <td>22</td>\n",
       "      <td>2011</td>\n",
       "      <td>Fiction</td>\n",
       "    </tr>\n",
       "    <tr>\n",
       "      <th>2</th>\n",
       "      <td>12 Rules for Life: An Antidote to Chaos</td>\n",
       "      <td>Jordan B. Peterson</td>\n",
       "      <td>4.7</td>\n",
       "      <td>18979</td>\n",
       "      <td>15</td>\n",
       "      <td>2018</td>\n",
       "      <td>Non Fiction</td>\n",
       "    </tr>\n",
       "    <tr>\n",
       "      <th>3</th>\n",
       "      <td>1984 (Signet Classics)</td>\n",
       "      <td>George Orwell</td>\n",
       "      <td>4.7</td>\n",
       "      <td>21424</td>\n",
       "      <td>6</td>\n",
       "      <td>2017</td>\n",
       "      <td>Fiction</td>\n",
       "    </tr>\n",
       "    <tr>\n",
       "      <th>4</th>\n",
       "      <td>5,000 Awesome Facts (About Everything!) (Natio...</td>\n",
       "      <td>National Geographic Kids</td>\n",
       "      <td>4.8</td>\n",
       "      <td>7665</td>\n",
       "      <td>12</td>\n",
       "      <td>2019</td>\n",
       "      <td>Non Fiction</td>\n",
       "    </tr>\n",
       "    <tr>\n",
       "      <th>...</th>\n",
       "      <td>...</td>\n",
       "      <td>...</td>\n",
       "      <td>...</td>\n",
       "      <td>...</td>\n",
       "      <td>...</td>\n",
       "      <td>...</td>\n",
       "      <td>...</td>\n",
       "    </tr>\n",
       "    <tr>\n",
       "      <th>545</th>\n",
       "      <td>Wrecking Ball (Diary of a Wimpy Kid Book 14)</td>\n",
       "      <td>Jeff Kinney</td>\n",
       "      <td>4.9</td>\n",
       "      <td>9413</td>\n",
       "      <td>8</td>\n",
       "      <td>2019</td>\n",
       "      <td>Fiction</td>\n",
       "    </tr>\n",
       "    <tr>\n",
       "      <th>546</th>\n",
       "      <td>You Are a Badass: How to Stop Doubting Your Gr...</td>\n",
       "      <td>Jen Sincero</td>\n",
       "      <td>4.7</td>\n",
       "      <td>14331</td>\n",
       "      <td>8</td>\n",
       "      <td>2016</td>\n",
       "      <td>Non Fiction</td>\n",
       "    </tr>\n",
       "    <tr>\n",
       "      <th>547</th>\n",
       "      <td>You Are a Badass: How to Stop Doubting Your Gr...</td>\n",
       "      <td>Jen Sincero</td>\n",
       "      <td>4.7</td>\n",
       "      <td>14331</td>\n",
       "      <td>8</td>\n",
       "      <td>2017</td>\n",
       "      <td>Non Fiction</td>\n",
       "    </tr>\n",
       "    <tr>\n",
       "      <th>548</th>\n",
       "      <td>You Are a Badass: How to Stop Doubting Your Gr...</td>\n",
       "      <td>Jen Sincero</td>\n",
       "      <td>4.7</td>\n",
       "      <td>14331</td>\n",
       "      <td>8</td>\n",
       "      <td>2018</td>\n",
       "      <td>Non Fiction</td>\n",
       "    </tr>\n",
       "    <tr>\n",
       "      <th>549</th>\n",
       "      <td>You Are a Badass: How to Stop Doubting Your Gr...</td>\n",
       "      <td>Jen Sincero</td>\n",
       "      <td>4.7</td>\n",
       "      <td>14331</td>\n",
       "      <td>8</td>\n",
       "      <td>2019</td>\n",
       "      <td>Non Fiction</td>\n",
       "    </tr>\n",
       "  </tbody>\n",
       "</table>\n",
       "<p>550 rows × 7 columns</p>\n",
       "</div>"
      ],
      "text/plain": [
       "                                                  Name  \\\n",
       "0                        10-Day Green Smoothie Cleanse   \n",
       "1                                    11/22/63: A Novel   \n",
       "2              12 Rules for Life: An Antidote to Chaos   \n",
       "3                               1984 (Signet Classics)   \n",
       "4    5,000 Awesome Facts (About Everything!) (Natio...   \n",
       "..                                                 ...   \n",
       "545       Wrecking Ball (Diary of a Wimpy Kid Book 14)   \n",
       "546  You Are a Badass: How to Stop Doubting Your Gr...   \n",
       "547  You Are a Badass: How to Stop Doubting Your Gr...   \n",
       "548  You Are a Badass: How to Stop Doubting Your Gr...   \n",
       "549  You Are a Badass: How to Stop Doubting Your Gr...   \n",
       "\n",
       "                       Author  User Rating  Reviews  Price  Year        Genre  \n",
       "0                    JJ Smith          4.7    17350      8  2016  Non Fiction  \n",
       "1                Stephen King          4.6     2052     22  2011      Fiction  \n",
       "2          Jordan B. Peterson          4.7    18979     15  2018  Non Fiction  \n",
       "3               George Orwell          4.7    21424      6  2017      Fiction  \n",
       "4    National Geographic Kids          4.8     7665     12  2019  Non Fiction  \n",
       "..                        ...          ...      ...    ...   ...          ...  \n",
       "545               Jeff Kinney          4.9     9413      8  2019      Fiction  \n",
       "546               Jen Sincero          4.7    14331      8  2016  Non Fiction  \n",
       "547               Jen Sincero          4.7    14331      8  2017  Non Fiction  \n",
       "548               Jen Sincero          4.7    14331      8  2018  Non Fiction  \n",
       "549               Jen Sincero          4.7    14331      8  2019  Non Fiction  \n",
       "\n",
       "[550 rows x 7 columns]"
      ]
     },
     "execution_count": 27,
     "metadata": {},
     "output_type": "execute_result"
    }
   ],
   "source": [
    "books"
   ]
  },
  {
   "cell_type": "code",
   "execution_count": 28,
   "metadata": {},
   "outputs": [
    {
     "data": {
      "text/plain": [
       "Name           0\n",
       "Author         0\n",
       "User Rating    0\n",
       "Reviews        0\n",
       "Price          0\n",
       "Year           0\n",
       "Genre          0\n",
       "dtype: int64"
      ]
     },
     "execution_count": 28,
     "metadata": {},
     "output_type": "execute_result"
    }
   ],
   "source": [
    "books.isnull().sum()"
   ]
  },
  {
   "cell_type": "markdown",
   "metadata": {},
   "source": [
    "# Question 1 : Determine the Percentage  of Fiction and Non-fiction books"
   ]
  },
  {
   "cell_type": "code",
   "execution_count": 29,
   "metadata": {},
   "outputs": [],
   "source": [
    "non_fiction = 310/550 * 100\n",
    "fiction = 240/550 * 100"
   ]
  },
  {
   "cell_type": "code",
   "execution_count": 30,
   "metadata": {},
   "outputs": [
    {
     "data": {
      "text/plain": [
       "56.36363636363636"
      ]
     },
     "execution_count": 30,
     "metadata": {},
     "output_type": "execute_result"
    }
   ],
   "source": [
    "non_fiction"
   ]
  },
  {
   "cell_type": "code",
   "execution_count": 31,
   "metadata": {},
   "outputs": [
    {
     "data": {
      "text/plain": [
       "43.63636363636363"
      ]
     },
     "execution_count": 31,
     "metadata": {},
     "output_type": "execute_result"
    }
   ],
   "source": [
    "fiction"
   ]
  },
  {
   "cell_type": "markdown",
   "metadata": {},
   "source": [
    "# Question 2: Carry out a research on how question 1 can be represented with graph and plot it"
   ]
  },
  {
   "cell_type": "code",
   "execution_count": 32,
   "metadata": {},
   "outputs": [
    {
     "data": {
      "image/png": "[encoded data removed]",
      "text/plain": [
       "<Figure size 1080x720 with 1 Axes>"
      ]
     },
     "metadata": {},
     "output_type": "display_data"
    }
   ],
   "source": [
    "fig = plt.figure(figsize= (15,10))\n",
    "genre = books['Genre'].value_counts().plot.pie(autopct = '%1.2f%%', labels = ['NON-FICTION:310', 'FICTION : 210']).set_title(\n",
    "    'PERCENTAGE OF FICTION AND NON-FICTION BOOKS', color = 'blue', fontsize = 20)\n",
    "plt.show()"
   ]
  },
  {
   "cell_type": "markdown",
   "metadata": {},
   "source": [
    "# Question 3:   Plot a graph showing the number of fiction and non-fiction book by year and state the highest and the lowest year"
   ]
  },
  {
   "cell_type": "code",
   "execution_count": 33,
   "metadata": {},
   "outputs": [
    {
     "data": {
      "image/png": "[encoded data removed]",
      "text/plain": [
       "<Figure size 1080x720 with 1 Axes>"
      ]
     },
     "metadata": {
      "needs_background": "light"
     },
     "output_type": "display_data"
    }
   ],
   "source": [
    "fig = plt.figure(figsize = (15,10))\n",
    "sns.set_palette('bright')\n",
    "sns.countplot(x = books['Year'], hue = books['Genre']).set_title('NUMBER OF FICTION AND NON-FICTIONS BOOKS BY YEAR', \n",
    "                                                                 color = 'k', fontsize = 20)\n",
    "plt.show()"
   ]
  },
  {
   "cell_type": "markdown",
   "metadata": {},
   "source": [
    "# The highest year fiction is 2014 while the highest year for non- fiction is 2015\n",
    "\n",
    "# The lowest year for fiction is 2015 while the lowest year for non fiction is 2014\n",
    "\n",
    "# This is to say that while fiction was at its highest in 2014, non-fiction was at its lowest, however, non-fiction regained its status in 2015 while fiction hit its lowest in 2015"
   ]
  },
  {
   "cell_type": "markdown",
   "metadata": {},
   "source": [
    "# Question 4: Plot a graph showing the distribution of price by genre"
   ]
  },
  {
   "cell_type": "code",
   "execution_count": 34,
   "metadata": {},
   "outputs": [
    {
     "data": {
      "image/png": "[encoded data removed]",
      "text/plain": [
       "<Figure size 1080x720 with 1 Axes>"
      ]
     },
     "metadata": {
      "needs_background": "light"
     },
     "output_type": "display_data"
    }
   ],
   "source": [
    "fig = plt.figure(figsize = (15,10))\n",
    "sns.set_palette('bright')\n",
    "sns.violinplot(x = books['Genre'], y = books['Price'], data = books, \n",
    "               split = True).set_title('THE DISTIBUTION OF PRICE BY GENRE', color = 'orange', fontsize = 20)\n",
    "plt.show()"
   ]
  },
  {
   "cell_type": "markdown",
   "metadata": {},
   "source": [
    "# Question 5: Plot a graph showing the mean price of fiction and non-fiction books by year"
   ]
  },
  {
   "cell_type": "code",
   "execution_count": 35,
   "metadata": {},
   "outputs": [
    {
     "name": "stdout",
     "output_type": "stream",
     "text": [
      "The mean price for fiction is 10.85\n"
     ]
    }
   ],
   "source": [
    "fiction =np.mean(books[books['Genre'] == 'Fiction']['Price'])\n",
    "fiction_mean = np.mean(fiction)\n",
    "print(f'The mean price for fiction is {fiction_mean}')"
   ]
  },
  {
   "cell_type": "code",
   "execution_count": 36,
   "metadata": {},
   "outputs": [
    {
     "data": {
      "image/png": "[encoded data removed]",
      "text/plain": [
       "<Figure size 1080x720 with 1 Axes>"
      ]
     },
     "metadata": {
      "needs_background": "light"
     },
     "output_type": "display_data"
    }
   ],
   "source": [
    "fig = plt.figure(figsize = (15,10))\n",
    "sns.kdeplot(books[books['Genre'] == 'Fiction']['Price'], color = 'b', fill = True)\n",
    "plt.show()"
   ]
  },
  {
   "cell_type": "code",
   "execution_count": 37,
   "metadata": {},
   "outputs": [
    {
     "name": "stdout",
     "output_type": "stream",
     "text": [
      "The mean price for Non fiction is 14.841935483870968\n"
     ]
    }
   ],
   "source": [
    "fiction =np.mean(books[books['Genre'] == 'Non Fiction']['Price'])\n",
    "n_fiction_mean = np.mean(fiction)\n",
    "print(f'The mean price for Non fiction is {n_fiction_mean}')"
   ]
  },
  {
   "cell_type": "code",
   "execution_count": 38,
   "metadata": {},
   "outputs": [
    {
     "data": {
      "image/png": "[encoded data removed]",
      "text/plain": [
       "<Figure size 1080x720 with 1 Axes>"
      ]
     },
     "metadata": {
      "needs_background": "light"
     },
     "output_type": "display_data"
    }
   ],
   "source": [
    "fig = plt.figure(figsize = (15,10))\n",
    "sns.kdeplot(books[books['Genre'] == 'Non Fiction']['Price'], color = 'orange', fill = True)\n",
    "plt.show()"
   ]
  },
  {
   "cell_type": "markdown",
   "metadata": {},
   "source": [
    "# Question 6: List out the 5 most expensive fiction and non-fiction books in dataframe with the following features(Authur,Name and price)"
   ]
  },
  {
   "cell_type": "code",
   "execution_count": 39,
   "metadata": {},
   "outputs": [],
   "source": [
    "exp_fict = books[books['Genre'] == 'Fiction']"
   ]
  },
  {
   "cell_type": "code",
   "execution_count": 40,
   "metadata": {},
   "outputs": [
    {
     "name": "stderr",
     "output_type": "stream",
     "text": [
      "C:\\Users\\OLAMIDE FATOSIN\\anaconda3\\lib\\site-packages\\pandas\\core\\frame.py:4163: SettingWithCopyWarning: \n",
      "A value is trying to be set on a copy of a slice from a DataFrame\n",
      "\n",
      "See the caveats in the documentation: https://pandas.pydata.org/pandas-docs/stable/user_guide/indexing.html#returning-a-view-versus-a-copy\n",
      "  return super().drop(\n"
     ]
    }
   ],
   "source": [
    "exp_fict.drop(['User Rating', 'Reviews', 'Year'], axis = 1, inplace = True)"
   ]
  },
  {
   "cell_type": "code",
   "execution_count": 41,
   "metadata": {},
   "outputs": [
    {
     "data": {
      "text/html": [
       "<div>\n",
       "<style scoped>\n",
       "    .dataframe tbody tr th:only-of-type {\n",
       "        vertical-align: middle;\n",
       "    }\n",
       "\n",
       "    .dataframe tbody tr th {\n",
       "        vertical-align: top;\n",
       "    }\n",
       "\n",
       "    .dataframe thead th {\n",
       "        text-align: right;\n",
       "    }\n",
       "</style>\n",
       "<table border=\"1\" class=\"dataframe\">\n",
       "  <thead>\n",
       "    <tr style=\"text-align: right;\">\n",
       "      <th></th>\n",
       "      <th>Name</th>\n",
       "      <th>Author</th>\n",
       "      <th>Price</th>\n",
       "      <th>Genre</th>\n",
       "    </tr>\n",
       "  </thead>\n",
       "  <tbody>\n",
       "    <tr>\n",
       "      <th>473</th>\n",
       "      <td>The Twilight Saga Collection</td>\n",
       "      <td>Stephenie Meyer</td>\n",
       "      <td>82</td>\n",
       "      <td>Fiction</td>\n",
       "    </tr>\n",
       "    <tr>\n",
       "      <th>159</th>\n",
       "      <td>Harry Potter Paperback Box Set (Books 1-7)</td>\n",
       "      <td>J. K. Rowling</td>\n",
       "      <td>52</td>\n",
       "      <td>Fiction</td>\n",
       "    </tr>\n",
       "    <tr>\n",
       "      <th>524</th>\n",
       "      <td>Watchmen</td>\n",
       "      <td>Alan Moore</td>\n",
       "      <td>42</td>\n",
       "      <td>Fiction</td>\n",
       "    </tr>\n",
       "    <tr>\n",
       "      <th>338</th>\n",
       "      <td>The Alchemist</td>\n",
       "      <td>Paulo Coelho</td>\n",
       "      <td>39</td>\n",
       "      <td>Fiction</td>\n",
       "    </tr>\n",
       "    <tr>\n",
       "      <th>108</th>\n",
       "      <td>Fifty Shades Trilogy (Fifty Shades of Grey / F...</td>\n",
       "      <td>E L James</td>\n",
       "      <td>32</td>\n",
       "      <td>Fiction</td>\n",
       "    </tr>\n",
       "  </tbody>\n",
       "</table>\n",
       "</div>"
      ],
      "text/plain": [
       "                                                  Name           Author  \\\n",
       "473                       The Twilight Saga Collection  Stephenie Meyer   \n",
       "159         Harry Potter Paperback Box Set (Books 1-7)    J. K. Rowling   \n",
       "524                                           Watchmen       Alan Moore   \n",
       "338                                      The Alchemist     Paulo Coelho   \n",
       "108  Fifty Shades Trilogy (Fifty Shades of Grey / F...        E L James   \n",
       "\n",
       "     Price    Genre  \n",
       "473     82  Fiction  \n",
       "159     52  Fiction  \n",
       "524     42  Fiction  \n",
       "338     39  Fiction  \n",
       "108     32  Fiction  "
      ]
     },
     "execution_count": 41,
     "metadata": {},
     "output_type": "execute_result"
    }
   ],
   "source": [
    "exp_fict.nlargest(5, ['Price'])"
   ]
  },
  {
   "cell_type": "code",
   "execution_count": 42,
   "metadata": {},
   "outputs": [],
   "source": [
    "exp_n_fict = books[books['Genre'] == 'Non Fiction']"
   ]
  },
  {
   "cell_type": "code",
   "execution_count": 43,
   "metadata": {},
   "outputs": [
    {
     "name": "stderr",
     "output_type": "stream",
     "text": [
      "C:\\Users\\OLAMIDE FATOSIN\\anaconda3\\lib\\site-packages\\pandas\\core\\frame.py:4163: SettingWithCopyWarning: \n",
      "A value is trying to be set on a copy of a slice from a DataFrame\n",
      "\n",
      "See the caveats in the documentation: https://pandas.pydata.org/pandas-docs/stable/user_guide/indexing.html#returning-a-view-versus-a-copy\n",
      "  return super().drop(\n"
     ]
    }
   ],
   "source": [
    "exp_n_fict.drop(['User Rating', 'Reviews', 'Year'], axis = 1, inplace = True)"
   ]
  },
  {
   "cell_type": "code",
   "execution_count": 44,
   "metadata": {},
   "outputs": [
    {
     "data": {
      "text/html": [
       "<div>\n",
       "<style scoped>\n",
       "    .dataframe tbody tr th:only-of-type {\n",
       "        vertical-align: middle;\n",
       "    }\n",
       "\n",
       "    .dataframe tbody tr th {\n",
       "        vertical-align: top;\n",
       "    }\n",
       "\n",
       "    .dataframe thead th {\n",
       "        text-align: right;\n",
       "    }\n",
       "</style>\n",
       "<table border=\"1\" class=\"dataframe\">\n",
       "  <thead>\n",
       "    <tr style=\"text-align: right;\">\n",
       "      <th></th>\n",
       "      <th>Name</th>\n",
       "      <th>Author</th>\n",
       "      <th>Price</th>\n",
       "      <th>Genre</th>\n",
       "    </tr>\n",
       "  </thead>\n",
       "  <tbody>\n",
       "    <tr>\n",
       "      <th>69</th>\n",
       "      <td>Diagnostic and Statistical Manual of Mental Di...</td>\n",
       "      <td>American Psychiatric Association</td>\n",
       "      <td>105</td>\n",
       "      <td>Non Fiction</td>\n",
       "    </tr>\n",
       "    <tr>\n",
       "      <th>70</th>\n",
       "      <td>Diagnostic and Statistical Manual of Mental Di...</td>\n",
       "      <td>American Psychiatric Association</td>\n",
       "      <td>105</td>\n",
       "      <td>Non Fiction</td>\n",
       "    </tr>\n",
       "    <tr>\n",
       "      <th>151</th>\n",
       "      <td>Hamilton: The Revolution</td>\n",
       "      <td>Lin-Manuel Miranda</td>\n",
       "      <td>54</td>\n",
       "      <td>Non Fiction</td>\n",
       "    </tr>\n",
       "    <tr>\n",
       "      <th>346</th>\n",
       "      <td>The Book of Basketball: The NBA According to T...</td>\n",
       "      <td>Bill Simmons</td>\n",
       "      <td>53</td>\n",
       "      <td>Non Fiction</td>\n",
       "    </tr>\n",
       "    <tr>\n",
       "      <th>271</th>\n",
       "      <td>Publication Manual of the American Psychologic...</td>\n",
       "      <td>American Psychological Association</td>\n",
       "      <td>46</td>\n",
       "      <td>Non Fiction</td>\n",
       "    </tr>\n",
       "  </tbody>\n",
       "</table>\n",
       "</div>"
      ],
      "text/plain": [
       "                                                  Name  \\\n",
       "69   Diagnostic and Statistical Manual of Mental Di...   \n",
       "70   Diagnostic and Statistical Manual of Mental Di...   \n",
       "151                           Hamilton: The Revolution   \n",
       "346  The Book of Basketball: The NBA According to T...   \n",
       "271  Publication Manual of the American Psychologic...   \n",
       "\n",
       "                                 Author  Price        Genre  \n",
       "69     American Psychiatric Association    105  Non Fiction  \n",
       "70     American Psychiatric Association    105  Non Fiction  \n",
       "151                  Lin-Manuel Miranda     54  Non Fiction  \n",
       "346                        Bill Simmons     53  Non Fiction  \n",
       "271  American Psychological Association     46  Non Fiction  "
      ]
     },
     "execution_count": 44,
     "metadata": {},
     "output_type": "execute_result"
    }
   ],
   "source": [
    "exp_n_fict.nlargest(5, ['Price'])"
   ]
  },
  {
   "cell_type": "markdown",
   "metadata": {},
   "source": [
    "# Question 7: Determine the percentge of User Rating and Reviews"
   ]
  },
  {
   "cell_type": "code",
   "execution_count": 45,
   "metadata": {},
   "outputs": [],
   "source": [
    "ratings = round(100*books['User Rating'].value_counts()/len(books['User Rating']),2)"
   ]
  },
  {
   "cell_type": "code",
   "execution_count": 46,
   "metadata": {},
   "outputs": [
    {
     "name": "stdout",
     "output_type": "stream",
     "text": [
      "4.8    23.09\n",
      "4.7    19.64\n",
      "4.6    19.09\n",
      "4.5    10.91\n",
      "4.9     9.45\n",
      "4.4     6.91\n",
      "4.3     4.55\n",
      "4.0     2.55\n",
      "4.2     1.45\n",
      "4.1     1.09\n",
      "3.9     0.55\n",
      "3.8     0.36\n",
      "3.3     0.18\n",
      "3.6     0.18\n",
      "Name: User Rating, dtype: float64\n"
     ]
    }
   ],
   "source": [
    "print(ratings)"
   ]
  },
  {
   "cell_type": "code",
   "execution_count": 47,
   "metadata": {},
   "outputs": [],
   "source": [
    "reviews = round(100*books['Reviews'].value_counts()/len(books['Reviews']),2)"
   ]
  },
  {
   "cell_type": "code",
   "execution_count": 48,
   "metadata": {},
   "outputs": [
    {
     "name": "stdout",
     "output_type": "stream",
     "text": [
      "8580     1.82\n",
      "5069     1.64\n",
      "21834    1.45\n",
      "19546    1.27\n",
      "19576    1.09\n",
      "         ... \n",
      "3428     0.18\n",
      "14982    0.18\n",
      "9867     0.18\n",
      "13964    0.18\n",
      "2052     0.18\n",
      "Name: Reviews, Length: 346, dtype: float64\n"
     ]
    }
   ],
   "source": [
    "print(reviews)"
   ]
  }
 ],
 "metadata": {
  "kernelspec": {
   "display_name": "Python 3",
   "language": "python",
   "name": "python3"
  },
  "language_info": {
   "codemirror_mode": {
    "name": "ipython",
    "version": 3
   },
   "file_extension": ".py",
   "mimetype": "text/x-python",
   "name": "python",
   "nbconvert_exporter": "python",
   "pygments_lexer": "ipython3",
   "version": "3.8.5"
  }
 },
 "nbformat": 4,
 "nbformat_minor": 4
}
