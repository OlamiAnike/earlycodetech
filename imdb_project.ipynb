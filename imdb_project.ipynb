{
 "cells": [
  {
   "cell_type": "code",
   "execution_count": 99,
   "metadata": {},
   "outputs": [],
   "source": [
    "import numpy as np\n",
    "import pandas as pd\n",
    "import matplotlib.pyplot as plt\n",
    "import seaborn as sns\n",
    "%matplotlib inline"
   ]
  },
  {
   "cell_type": "code",
   "execution_count": 100,
   "metadata": {},
   "outputs": [],
   "source": [
    "imdb = pd.read_csv('IMDB_movie_reviews_details.csv')"
   ]
  },
  {
   "cell_type": "code",
   "execution_count": 101,
   "metadata": {
    "scrolled": true
   },
   "outputs": [
    {
     "data": {
      "text/html": [
       "<div>\n",
       "<style scoped>\n",
       "    .dataframe tbody tr th:only-of-type {\n",
       "        vertical-align: middle;\n",
       "    }\n",
       "\n",
       "    .dataframe tbody tr th {\n",
       "        vertical-align: top;\n",
       "    }\n",
       "\n",
       "    .dataframe thead th {\n",
       "        text-align: right;\n",
       "    }\n",
       "</style>\n",
       "<table border=\"1\" class=\"dataframe\">\n",
       "  <thead>\n",
       "    <tr style=\"text-align: right;\">\n",
       "      <th></th>\n",
       "      <th>Unnamed: 0</th>\n",
       "      <th>name</th>\n",
       "      <th>year</th>\n",
       "      <th>runtime</th>\n",
       "      <th>genre</th>\n",
       "      <th>rating</th>\n",
       "      <th>metascore</th>\n",
       "      <th>timeline</th>\n",
       "      <th>votes</th>\n",
       "      <th>gross</th>\n",
       "    </tr>\n",
       "  </thead>\n",
       "  <tbody>\n",
       "    <tr>\n",
       "      <th>0</th>\n",
       "      <td>0</td>\n",
       "      <td>The Shawshank Redemption</td>\n",
       "      <td>1994</td>\n",
       "      <td>142</td>\n",
       "      <td>Drama</td>\n",
       "      <td>9.3</td>\n",
       "      <td>80.0</td>\n",
       "      <td>Two imprisoned men bond over a number of years...</td>\n",
       "      <td>2,394,059</td>\n",
       "      <td>$28.34M</td>\n",
       "    </tr>\n",
       "    <tr>\n",
       "      <th>1</th>\n",
       "      <td>1</td>\n",
       "      <td>The Godfather</td>\n",
       "      <td>1972</td>\n",
       "      <td>175</td>\n",
       "      <td>Crime, Drama</td>\n",
       "      <td>9.2</td>\n",
       "      <td>100.0</td>\n",
       "      <td>An organized crime dynasty's aging patriarch t...</td>\n",
       "      <td>1,658,439</td>\n",
       "      <td>$134.97M</td>\n",
       "    </tr>\n",
       "    <tr>\n",
       "      <th>2</th>\n",
       "      <td>2</td>\n",
       "      <td>Soorarai Pottru</td>\n",
       "      <td>2020</td>\n",
       "      <td>153</td>\n",
       "      <td>Drama</td>\n",
       "      <td>9.1</td>\n",
       "      <td>NaN</td>\n",
       "      <td>Nedumaaran Rajangam \"Maara\" sets out to make t...</td>\n",
       "      <td>78,266</td>\n",
       "      <td>NaN</td>\n",
       "    </tr>\n",
       "    <tr>\n",
       "      <th>3</th>\n",
       "      <td>3</td>\n",
       "      <td>The Dark Knight</td>\n",
       "      <td>2008</td>\n",
       "      <td>152</td>\n",
       "      <td>Action, Crime, Drama</td>\n",
       "      <td>9.0</td>\n",
       "      <td>84.0</td>\n",
       "      <td>When the menace known as the Joker wreaks havo...</td>\n",
       "      <td>2,355,907</td>\n",
       "      <td>$534.86M</td>\n",
       "    </tr>\n",
       "    <tr>\n",
       "      <th>4</th>\n",
       "      <td>4</td>\n",
       "      <td>The Godfather: Part II</td>\n",
       "      <td>1974</td>\n",
       "      <td>202</td>\n",
       "      <td>Crime, Drama</td>\n",
       "      <td>9.0</td>\n",
       "      <td>90.0</td>\n",
       "      <td>The early life and career of Vito Corleone in ...</td>\n",
       "      <td>1,152,912</td>\n",
       "      <td>$57.30M</td>\n",
       "    </tr>\n",
       "  </tbody>\n",
       "</table>\n",
       "</div>"
      ],
      "text/plain": [
       "   Unnamed: 0                      name  year  runtime                 genre  \\\n",
       "0           0  The Shawshank Redemption  1994      142                 Drama   \n",
       "1           1             The Godfather  1972      175          Crime, Drama   \n",
       "2           2           Soorarai Pottru  2020      153                 Drama   \n",
       "3           3           The Dark Knight  2008      152  Action, Crime, Drama   \n",
       "4           4    The Godfather: Part II  1974      202          Crime, Drama   \n",
       "\n",
       "   rating  metascore                                           timeline  \\\n",
       "0     9.3       80.0  Two imprisoned men bond over a number of years...   \n",
       "1     9.2      100.0  An organized crime dynasty's aging patriarch t...   \n",
       "2     9.1        NaN  Nedumaaran Rajangam \"Maara\" sets out to make t...   \n",
       "3     9.0       84.0  When the menace known as the Joker wreaks havo...   \n",
       "4     9.0       90.0  The early life and career of Vito Corleone in ...   \n",
       "\n",
       "       votes     gross  \n",
       "0  2,394,059   $28.34M  \n",
       "1  1,658,439  $134.97M  \n",
       "2     78,266       NaN  \n",
       "3  2,355,907  $534.86M  \n",
       "4  1,152,912   $57.30M  "
      ]
     },
     "execution_count": 101,
     "metadata": {},
     "output_type": "execute_result"
    }
   ],
   "source": [
    "imdb.head()"
   ]
  },
  {
   "cell_type": "code",
   "execution_count": 102,
   "metadata": {},
   "outputs": [],
   "source": [
    "imdb.drop(['Unnamed: 0'], axis = 1, inplace = True)"
   ]
  },
  {
   "cell_type": "code",
   "execution_count": 103,
   "metadata": {},
   "outputs": [
    {
     "data": {
      "text/plain": [
       "name           0\n",
       "year           0\n",
       "runtime        0\n",
       "genre          0\n",
       "rating         0\n",
       "metascore    159\n",
       "timeline       0\n",
       "votes          0\n",
       "gross        171\n",
       "dtype: int64"
      ]
     },
     "execution_count": 103,
     "metadata": {},
     "output_type": "execute_result"
    }
   ],
   "source": [
    "imdb.isnull().sum()"
   ]
  },
  {
   "cell_type": "code",
   "execution_count": 104,
   "metadata": {},
   "outputs": [],
   "source": [
    "imdb.dropna(inplace = True)"
   ]
  },
  {
   "cell_type": "markdown",
   "metadata": {},
   "source": [
    "# Question 1: Find the exact number of genre with the highest ratings  "
   ]
  },
  {
   "cell_type": "code",
   "execution_count": 105,
   "metadata": {},
   "outputs": [
    {
     "data": {
      "text/html": [
       "<div>\n",
       "<style scoped>\n",
       "    .dataframe tbody tr th:only-of-type {\n",
       "        vertical-align: middle;\n",
       "    }\n",
       "\n",
       "    .dataframe tbody tr th {\n",
       "        vertical-align: top;\n",
       "    }\n",
       "\n",
       "    .dataframe thead th {\n",
       "        text-align: right;\n",
       "    }\n",
       "</style>\n",
       "<table border=\"1\" class=\"dataframe\">\n",
       "  <thead>\n",
       "    <tr style=\"text-align: right;\">\n",
       "      <th></th>\n",
       "      <th>name</th>\n",
       "      <th>year</th>\n",
       "      <th>runtime</th>\n",
       "      <th>genre</th>\n",
       "      <th>rating</th>\n",
       "      <th>metascore</th>\n",
       "      <th>timeline</th>\n",
       "      <th>votes</th>\n",
       "      <th>gross</th>\n",
       "    </tr>\n",
       "  </thead>\n",
       "  <tbody>\n",
       "    <tr>\n",
       "      <th>0</th>\n",
       "      <td>The Shawshank Redemption</td>\n",
       "      <td>1994</td>\n",
       "      <td>142</td>\n",
       "      <td>Drama</td>\n",
       "      <td>9.3</td>\n",
       "      <td>80.0</td>\n",
       "      <td>Two imprisoned men bond over a number of years...</td>\n",
       "      <td>2,394,059</td>\n",
       "      <td>$28.34M</td>\n",
       "    </tr>\n",
       "  </tbody>\n",
       "</table>\n",
       "</div>"
      ],
      "text/plain": [
       "                       name  year  runtime  genre  rating  metascore  \\\n",
       "0  The Shawshank Redemption  1994      142  Drama     9.3       80.0   \n",
       "\n",
       "                                            timeline      votes    gross  \n",
       "0  Two imprisoned men bond over a number of years...  2,394,059  $28.34M  "
      ]
     },
     "execution_count": 105,
     "metadata": {},
     "output_type": "execute_result"
    }
   ],
   "source": [
    "imdb.nlargest(1,['rating'])"
   ]
  },
  {
   "cell_type": "markdown",
   "metadata": {},
   "source": [
    "# Question 2: Plot a graph showing from lowest to highest movies in ascending order with their ratings"
   ]
  },
  {
   "cell_type": "code",
   "execution_count": 106,
   "metadata": {},
   "outputs": [
    {
     "data": {
      "image/png": "[encoded data removed]",
      "text/plain": [
       "<Figure size 1080x720 with 1 Axes>"
      ]
     },
     "metadata": {
      "needs_background": "light"
     },
     "output_type": "display_data"
    }
   ],
   "source": [
    "fig = plt.figure(figsize = (15,10))\n",
    "df_aor= imdb.sort_values(by = 'rating')\n",
    "plt.plot(df_aor.name,df_aor.rating ,'g', ls = '--', lw = 0.2, marker = 'o', markerfacecolor = 'y', markeredgecolor = 'r')\n",
    "plt.ylabel('RATINGS', color = 'g', fontsize = 20)\n",
    "plt.title('NUMBER OF HIGHEST TO LOWEST ACCORDING TO RATINGS', color = 'r', fontsize = 25)\n",
    "plt.show()"
   ]
  },
  {
   "cell_type": "markdown",
   "metadata": {},
   "source": [
    "# Question 3: Find the total number movies released from 2008 to 2019"
   ]
  },
  {
   "cell_type": "code",
   "execution_count": 107,
   "metadata": {},
   "outputs": [
    {
     "name": "stdout",
     "output_type": "stream",
     "text": [
      "<class 'pandas.core.frame.DataFrame'>\n",
      "Int64Index: 747 entries, 0 to 998\n",
      "Data columns (total 9 columns):\n",
      " #   Column     Non-Null Count  Dtype  \n",
      "---  ------     --------------  -----  \n",
      " 0   name       747 non-null    object \n",
      " 1   year       747 non-null    object \n",
      " 2   runtime    747 non-null    int64  \n",
      " 3   genre      747 non-null    object \n",
      " 4   rating     747 non-null    float64\n",
      " 5   metascore  747 non-null    float64\n",
      " 6   timeline   747 non-null    object \n",
      " 7   votes      747 non-null    object \n",
      " 8   gross      747 non-null    object \n",
      "dtypes: float64(2), int64(1), object(6)\n",
      "memory usage: 58.4+ KB\n"
     ]
    }
   ],
   "source": [
    "imdb.info()"
   ]
  },
  {
   "cell_type": "code",
   "execution_count": 108,
   "metadata": {},
   "outputs": [
    {
     "data": {
      "text/plain": [
       "array(['1994', '1972', '2008', '1974', '1957', '2003', '1993', '2010',\n",
       "       '1999', '2001', '1966', '2002', '1990', '1980', '1975', '2019',\n",
       "       '2014', '1998', '1997', '1995', '1991', '1977', '1954', '2011',\n",
       "       '2006', '2000', '1988', '1985', '1968', '1960', '1942', '1936',\n",
       "       '1931', '2018', '2016', 'I 2017', '2012', '2009', '1981', '1979',\n",
       "       '1964', '2004', '1992', '1987', '1986', '1984', '1983', '1976',\n",
       "       '1973', '1971', '1962', '1959', '1958', '1952', '1944', '1941',\n",
       "       '1927', '2013', '2007', '2005', '1989', '1965', '1963', '1950',\n",
       "       '1948', '2017', 'I 2014', 'I 2015', 'I 2013', '2015', '1996',\n",
       "       '1982', '1978', '1967', '1955', '1951', '1949', '1946', '1940',\n",
       "       '1939', '1934', '1930', 'I 2004', '1970', '1969', '1961', '1925',\n",
       "       'II 2016', 'I 2011', 'I 2001', '1947', '1938', '1933', 'I 2010',\n",
       "       'I 2008', 'I 2007', '1935', 'I 1985', 'III 2018', 'I 2016',\n",
       "       'II 2015', 'I 1995', '1953'], dtype=object)"
      ]
     },
     "execution_count": 108,
     "metadata": {},
     "output_type": "execute_result"
    }
   ],
   "source": [
    "imdb['year'].unique()"
   ]
  },
  {
   "cell_type": "code",
   "execution_count": 109,
   "metadata": {},
   "outputs": [],
   "source": [
    "imdb.replace({ 'I 2020' : '2020',  'III 2016' : '2016',\n",
    "       'I 2014' : '2014', 'I 2015' : '2015', 'I 2013' : '2013',\n",
    "       'I 2004' : '2004', '1970' : '1970',\n",
    "       'II 2016' : '2016', 'I 2011' : '2011', 'I 2001' : '2001', 'I 2010' : '2010', 'I 2008' : '2008', 'I 2007' : '2007', \n",
    "        'I 1985' : '1985', 'III 2018' : '2018',\n",
    "       'II 2015' : '2015', 'I 2016' : '2016', 'I 1995' : '1995'}, inplace = True)"
   ]
  },
  {
   "cell_type": "code",
   "execution_count": 110,
   "metadata": {},
   "outputs": [],
   "source": [
    "imdb.replace({'I 2017' : '2017'}, inplace = True)"
   ]
  },
  {
   "cell_type": "code",
   "execution_count": 111,
   "metadata": {},
   "outputs": [],
   "source": [
    "#imdb['year'].unique()"
   ]
  },
  {
   "cell_type": "code",
   "execution_count": 112,
   "metadata": {},
   "outputs": [],
   "source": [
    "imdb['year']= pd.to_datetime(imdb['year'])"
   ]
  },
  {
   "cell_type": "code",
   "execution_count": 113,
   "metadata": {},
   "outputs": [],
   "source": [
    "total = imdb[(imdb['year'] >= '2008') & (imdb['year'] <= '2019')]"
   ]
  },
  {
   "cell_type": "code",
   "execution_count": 114,
   "metadata": {},
   "outputs": [
    {
     "data": {
      "text/html": [
       "<div>\n",
       "<style scoped>\n",
       "    .dataframe tbody tr th:only-of-type {\n",
       "        vertical-align: middle;\n",
       "    }\n",
       "\n",
       "    .dataframe tbody tr th {\n",
       "        vertical-align: top;\n",
       "    }\n",
       "\n",
       "    .dataframe thead th {\n",
       "        text-align: right;\n",
       "    }\n",
       "</style>\n",
       "<table border=\"1\" class=\"dataframe\">\n",
       "  <thead>\n",
       "    <tr style=\"text-align: right;\">\n",
       "      <th></th>\n",
       "      <th>name</th>\n",
       "      <th>year</th>\n",
       "      <th>runtime</th>\n",
       "      <th>genre</th>\n",
       "      <th>rating</th>\n",
       "      <th>metascore</th>\n",
       "      <th>timeline</th>\n",
       "      <th>votes</th>\n",
       "      <th>gross</th>\n",
       "    </tr>\n",
       "  </thead>\n",
       "  <tbody>\n",
       "    <tr>\n",
       "      <th>3</th>\n",
       "      <td>The Dark Knight</td>\n",
       "      <td>2008-01-01</td>\n",
       "      <td>152</td>\n",
       "      <td>Action, Crime, Drama</td>\n",
       "      <td>9.0</td>\n",
       "      <td>84.0</td>\n",
       "      <td>When the menace known as the Joker wreaks havo...</td>\n",
       "      <td>2,355,907</td>\n",
       "      <td>$534.86M</td>\n",
       "    </tr>\n",
       "    <tr>\n",
       "      <th>9</th>\n",
       "      <td>Inception</td>\n",
       "      <td>2010-01-01</td>\n",
       "      <td>148</td>\n",
       "      <td>Action, Adventure, Sci-Fi</td>\n",
       "      <td>8.8</td>\n",
       "      <td>74.0</td>\n",
       "      <td>A thief who steals corporate secrets through t...</td>\n",
       "      <td>2,113,984</td>\n",
       "      <td>$292.58M</td>\n",
       "    </tr>\n",
       "    <tr>\n",
       "      <th>19</th>\n",
       "      <td>Parasite</td>\n",
       "      <td>2019-01-01</td>\n",
       "      <td>132</td>\n",
       "      <td>Comedy, Drama, Thriller</td>\n",
       "      <td>8.6</td>\n",
       "      <td>96.0</td>\n",
       "      <td>Greed and class discrimination threaten the ne...</td>\n",
       "      <td>608,406</td>\n",
       "      <td>$53.37M</td>\n",
       "    </tr>\n",
       "    <tr>\n",
       "      <th>20</th>\n",
       "      <td>Interstellar</td>\n",
       "      <td>2014-01-01</td>\n",
       "      <td>169</td>\n",
       "      <td>Adventure, Drama, Sci-Fi</td>\n",
       "      <td>8.6</td>\n",
       "      <td>74.0</td>\n",
       "      <td>A team of explorers travel through a wormhole ...</td>\n",
       "      <td>1,558,558</td>\n",
       "      <td>$188.02M</td>\n",
       "    </tr>\n",
       "    <tr>\n",
       "      <th>34</th>\n",
       "      <td>Whiplash</td>\n",
       "      <td>2014-01-01</td>\n",
       "      <td>106</td>\n",
       "      <td>Drama, Music</td>\n",
       "      <td>8.5</td>\n",
       "      <td>88.0</td>\n",
       "      <td>A promising young drummer enrolls at a cut-thr...</td>\n",
       "      <td>738,672</td>\n",
       "      <td>$13.09M</td>\n",
       "    </tr>\n",
       "    <tr>\n",
       "      <th>...</th>\n",
       "      <td>...</td>\n",
       "      <td>...</td>\n",
       "      <td>...</td>\n",
       "      <td>...</td>\n",
       "      <td>...</td>\n",
       "      <td>...</td>\n",
       "      <td>...</td>\n",
       "      <td>...</td>\n",
       "      <td>...</td>\n",
       "    </tr>\n",
       "    <tr>\n",
       "      <th>924</th>\n",
       "      <td>The Blind Side</td>\n",
       "      <td>2009-01-01</td>\n",
       "      <td>129</td>\n",
       "      <td>Biography, Drama, Sport</td>\n",
       "      <td>7.6</td>\n",
       "      <td>53.0</td>\n",
       "      <td>The story of Michael Oher, a homeless and trau...</td>\n",
       "      <td>299,347</td>\n",
       "      <td>$255.96M</td>\n",
       "    </tr>\n",
       "    <tr>\n",
       "      <th>926</th>\n",
       "      <td>Seven Pounds</td>\n",
       "      <td>2008-01-01</td>\n",
       "      <td>123</td>\n",
       "      <td>Drama</td>\n",
       "      <td>7.6</td>\n",
       "      <td>36.0</td>\n",
       "      <td>A man with a fateful secret embarks on an extr...</td>\n",
       "      <td>289,822</td>\n",
       "      <td>$69.95M</td>\n",
       "    </tr>\n",
       "    <tr>\n",
       "      <th>929</th>\n",
       "      <td>The Secret of Kells</td>\n",
       "      <td>2009-01-01</td>\n",
       "      <td>75</td>\n",
       "      <td>Animation, Adventure, Family</td>\n",
       "      <td>7.6</td>\n",
       "      <td>81.0</td>\n",
       "      <td>A young boy in a remote medieval outpost under...</td>\n",
       "      <td>32,865</td>\n",
       "      <td>$0.69M</td>\n",
       "    </tr>\n",
       "    <tr>\n",
       "      <th>936</th>\n",
       "      <td>Harry Potter and the Half-Blood Prince</td>\n",
       "      <td>2009-01-01</td>\n",
       "      <td>153</td>\n",
       "      <td>Action, Adventure, Family</td>\n",
       "      <td>7.6</td>\n",
       "      <td>78.0</td>\n",
       "      <td>As Harry Potter begins his sixth year at Hogwa...</td>\n",
       "      <td>486,611</td>\n",
       "      <td>$301.96M</td>\n",
       "    </tr>\n",
       "    <tr>\n",
       "      <th>939</th>\n",
       "      <td>Watchmen</td>\n",
       "      <td>2009-01-01</td>\n",
       "      <td>162</td>\n",
       "      <td>Action, Drama, Mystery</td>\n",
       "      <td>7.6</td>\n",
       "      <td>56.0</td>\n",
       "      <td>In 1985 where former superheroes exist, the mu...</td>\n",
       "      <td>514,915</td>\n",
       "      <td>$107.51M</td>\n",
       "    </tr>\n",
       "  </tbody>\n",
       "</table>\n",
       "<p>227 rows × 9 columns</p>\n",
       "</div>"
      ],
      "text/plain": [
       "                                       name       year  runtime  \\\n",
       "3                           The Dark Knight 2008-01-01      152   \n",
       "9                                 Inception 2010-01-01      148   \n",
       "19                                 Parasite 2019-01-01      132   \n",
       "20                             Interstellar 2014-01-01      169   \n",
       "34                                 Whiplash 2014-01-01      106   \n",
       "..                                      ...        ...      ...   \n",
       "924                          The Blind Side 2009-01-01      129   \n",
       "926                            Seven Pounds 2008-01-01      123   \n",
       "929                     The Secret of Kells 2009-01-01       75   \n",
       "936  Harry Potter and the Half-Blood Prince 2009-01-01      153   \n",
       "939                                Watchmen 2009-01-01      162   \n",
       "\n",
       "                            genre  rating  metascore  \\\n",
       "3            Action, Crime, Drama     9.0       84.0   \n",
       "9       Action, Adventure, Sci-Fi     8.8       74.0   \n",
       "19        Comedy, Drama, Thriller     8.6       96.0   \n",
       "20       Adventure, Drama, Sci-Fi     8.6       74.0   \n",
       "34                   Drama, Music     8.5       88.0   \n",
       "..                            ...     ...        ...   \n",
       "924       Biography, Drama, Sport     7.6       53.0   \n",
       "926                         Drama     7.6       36.0   \n",
       "929  Animation, Adventure, Family     7.6       81.0   \n",
       "936     Action, Adventure, Family     7.6       78.0   \n",
       "939        Action, Drama, Mystery     7.6       56.0   \n",
       "\n",
       "                                              timeline      votes     gross  \n",
       "3    When the menace known as the Joker wreaks havo...  2,355,907  $534.86M  \n",
       "9    A thief who steals corporate secrets through t...  2,113,984  $292.58M  \n",
       "19   Greed and class discrimination threaten the ne...    608,406   $53.37M  \n",
       "20   A team of explorers travel through a wormhole ...  1,558,558  $188.02M  \n",
       "34   A promising young drummer enrolls at a cut-thr...    738,672   $13.09M  \n",
       "..                                                 ...        ...       ...  \n",
       "924  The story of Michael Oher, a homeless and trau...    299,347  $255.96M  \n",
       "926  A man with a fateful secret embarks on an extr...    289,822   $69.95M  \n",
       "929  A young boy in a remote medieval outpost under...     32,865    $0.69M  \n",
       "936  As Harry Potter begins his sixth year at Hogwa...    486,611  $301.96M  \n",
       "939  In 1985 where former superheroes exist, the mu...    514,915  $107.51M  \n",
       "\n",
       "[227 rows x 9 columns]"
      ]
     },
     "execution_count": 114,
     "metadata": {},
     "output_type": "execute_result"
    }
   ],
   "source": [
    "total"
   ]
  },
  {
   "cell_type": "code",
   "execution_count": 115,
   "metadata": {},
   "outputs": [],
   "source": [
    "total_num = len(imdb[(imdb['year'] >= '2008') & (imdb['year'] <= '2019')])"
   ]
  },
  {
   "cell_type": "code",
   "execution_count": 116,
   "metadata": {},
   "outputs": [
    {
     "name": "stdout",
     "output_type": "stream",
     "text": [
      " The total number of movies released from 2008 to 2019 is 227\n"
     ]
    }
   ],
   "source": [
    "print(f' The total number of movies released from 2008 to 2019 is {total_num}')"
   ]
  },
  {
   "cell_type": "markdown",
   "metadata": {},
   "source": [
    "# Question 4: Create a chart showing the metascore per category"
   ]
  },
  {
   "cell_type": "code",
   "execution_count": 117,
   "metadata": {},
   "outputs": [
    {
     "data": {
      "text/plain": [
       "array([9.3, 9.2, 9. , 8.9, 8.8, 8.7, 8.6, 8.5, 8.4, 8.3, 8.2, 8.1, 8. ,\n",
       "       7.9, 7.8, 7.7, 7.6])"
      ]
     },
     "execution_count": 117,
     "metadata": {},
     "output_type": "execute_result"
    }
   ],
   "source": [
    "imdb['rating'].unique()"
   ]
  },
  {
   "cell_type": "code",
   "execution_count": 118,
   "metadata": {},
   "outputs": [
    {
     "data": {
      "image/png": "[encoded data removed]",
      "text/plain": [
       "<Figure size 1080x720 with 1 Axes>"
      ]
     },
     "metadata": {
      "needs_background": "light"
     },
     "output_type": "display_data"
    }
   ],
   "source": [
    "fig = plt.figure(figsize = (15,10))\n",
    "sns.set_palette('bright')\n",
    "sns.countplot(x = imdb['metascore'], hue = imdb['metascore']).set_title('NUMBER OF METASCORE BY CATEGORY', \n",
    "                                                                 color = 'orange', fontsize = 20)\n",
    "plt.show()"
   ]
  },
  {
   "cell_type": "markdown",
   "metadata": {},
   "source": [
    "# Question 5: Show the percentage of games that got a 9+ rating"
   ]
  },
  {
   "cell_type": "code",
   "execution_count": 119,
   "metadata": {},
   "outputs": [],
   "source": [
    "nine = len(imdb[imdb['rating'] >= 9.0])"
   ]
  },
  {
   "cell_type": "code",
   "execution_count": 120,
   "metadata": {},
   "outputs": [
    {
     "data": {
      "text/plain": [
       "5"
      ]
     },
     "execution_count": 120,
     "metadata": {},
     "output_type": "execute_result"
    }
   ],
   "source": [
    "nine"
   ]
  },
  {
   "cell_type": "code",
   "execution_count": 121,
   "metadata": {},
   "outputs": [],
   "source": [
    "rating = round(100*nine/len(imdb['rating']),2)"
   ]
  },
  {
   "cell_type": "code",
   "execution_count": 122,
   "metadata": {},
   "outputs": [
    {
     "name": "stdout",
     "output_type": "stream",
     "text": [
      " The total percentage of games that got a nine plus rating is 0.67\n"
     ]
    }
   ],
   "source": [
    "print(f' The total percentage of games that got a nine plus rating is {rating}')"
   ]
  },
  {
   "cell_type": "markdown",
   "metadata": {},
   "source": [
    "# Question 6: Get the percentage of movies released for each of this year(2010 to 2020)"
   ]
  },
  {
   "cell_type": "code",
   "execution_count": 123,
   "metadata": {},
   "outputs": [],
   "source": [
    "percentage_10_20 = imdb[(imdb['year'] >= '2010') & (imdb['year'] <= '2020')]"
   ]
  },
  {
   "cell_type": "code",
   "execution_count": 124,
   "metadata": {},
   "outputs": [
    {
     "data": {
      "text/html": [
       "<div>\n",
       "<style scoped>\n",
       "    .dataframe tbody tr th:only-of-type {\n",
       "        vertical-align: middle;\n",
       "    }\n",
       "\n",
       "    .dataframe tbody tr th {\n",
       "        vertical-align: top;\n",
       "    }\n",
       "\n",
       "    .dataframe thead th {\n",
       "        text-align: right;\n",
       "    }\n",
       "</style>\n",
       "<table border=\"1\" class=\"dataframe\">\n",
       "  <thead>\n",
       "    <tr style=\"text-align: right;\">\n",
       "      <th></th>\n",
       "      <th>name</th>\n",
       "      <th>year</th>\n",
       "      <th>runtime</th>\n",
       "      <th>genre</th>\n",
       "      <th>rating</th>\n",
       "      <th>metascore</th>\n",
       "      <th>timeline</th>\n",
       "      <th>votes</th>\n",
       "      <th>gross</th>\n",
       "    </tr>\n",
       "  </thead>\n",
       "  <tbody>\n",
       "    <tr>\n",
       "      <th>9</th>\n",
       "      <td>Inception</td>\n",
       "      <td>2010-01-01</td>\n",
       "      <td>148</td>\n",
       "      <td>Action, Adventure, Sci-Fi</td>\n",
       "      <td>8.8</td>\n",
       "      <td>74.0</td>\n",
       "      <td>A thief who steals corporate secrets through t...</td>\n",
       "      <td>2,113,984</td>\n",
       "      <td>$292.58M</td>\n",
       "    </tr>\n",
       "    <tr>\n",
       "      <th>19</th>\n",
       "      <td>Parasite</td>\n",
       "      <td>2019-01-01</td>\n",
       "      <td>132</td>\n",
       "      <td>Comedy, Drama, Thriller</td>\n",
       "      <td>8.6</td>\n",
       "      <td>96.0</td>\n",
       "      <td>Greed and class discrimination threaten the ne...</td>\n",
       "      <td>608,406</td>\n",
       "      <td>$53.37M</td>\n",
       "    </tr>\n",
       "    <tr>\n",
       "      <th>20</th>\n",
       "      <td>Interstellar</td>\n",
       "      <td>2014-01-01</td>\n",
       "      <td>169</td>\n",
       "      <td>Adventure, Drama, Sci-Fi</td>\n",
       "      <td>8.6</td>\n",
       "      <td>74.0</td>\n",
       "      <td>A team of explorers travel through a wormhole ...</td>\n",
       "      <td>1,558,558</td>\n",
       "      <td>$188.02M</td>\n",
       "    </tr>\n",
       "    <tr>\n",
       "      <th>34</th>\n",
       "      <td>Whiplash</td>\n",
       "      <td>2014-01-01</td>\n",
       "      <td>106</td>\n",
       "      <td>Drama, Music</td>\n",
       "      <td>8.5</td>\n",
       "      <td>88.0</td>\n",
       "      <td>A promising young drummer enrolls at a cut-thr...</td>\n",
       "      <td>738,672</td>\n",
       "      <td>$13.09M</td>\n",
       "    </tr>\n",
       "    <tr>\n",
       "      <th>35</th>\n",
       "      <td>The Intouchables</td>\n",
       "      <td>2011-01-01</td>\n",
       "      <td>112</td>\n",
       "      <td>Biography, Comedy, Drama</td>\n",
       "      <td>8.5</td>\n",
       "      <td>57.0</td>\n",
       "      <td>After he becomes a quadriplegic from a paragli...</td>\n",
       "      <td>778,379</td>\n",
       "      <td>$13.18M</td>\n",
       "    </tr>\n",
       "    <tr>\n",
       "      <th>...</th>\n",
       "      <td>...</td>\n",
       "      <td>...</td>\n",
       "      <td>...</td>\n",
       "      <td>...</td>\n",
       "      <td>...</td>\n",
       "      <td>...</td>\n",
       "      <td>...</td>\n",
       "      <td>...</td>\n",
       "      <td>...</td>\n",
       "    </tr>\n",
       "    <tr>\n",
       "      <th>915</th>\n",
       "      <td>Despicable Me</td>\n",
       "      <td>2010-01-01</td>\n",
       "      <td>95</td>\n",
       "      <td>Animation, Comedy, Crime</td>\n",
       "      <td>7.6</td>\n",
       "      <td>72.0</td>\n",
       "      <td>When a criminal mastermind uses a trio of orph...</td>\n",
       "      <td>507,818</td>\n",
       "      <td>$251.51M</td>\n",
       "    </tr>\n",
       "    <tr>\n",
       "      <th>916</th>\n",
       "      <td>50/50</td>\n",
       "      <td>2011-01-01</td>\n",
       "      <td>100</td>\n",
       "      <td>Comedy, Drama, Romance</td>\n",
       "      <td>7.6</td>\n",
       "      <td>72.0</td>\n",
       "      <td>Inspired by a true story, a comedy centered on...</td>\n",
       "      <td>318,164</td>\n",
       "      <td>$35.01M</td>\n",
       "    </tr>\n",
       "    <tr>\n",
       "      <th>917</th>\n",
       "      <td>Kick-Ass</td>\n",
       "      <td>2010-01-01</td>\n",
       "      <td>117</td>\n",
       "      <td>Action, Comedy, Crime</td>\n",
       "      <td>7.6</td>\n",
       "      <td>66.0</td>\n",
       "      <td>Dave Lizewski is an unnoticed high school stud...</td>\n",
       "      <td>530,801</td>\n",
       "      <td>$48.07M</td>\n",
       "    </tr>\n",
       "    <tr>\n",
       "      <th>919</th>\n",
       "      <td>Moneyball</td>\n",
       "      <td>2011-01-01</td>\n",
       "      <td>133</td>\n",
       "      <td>Biography, Drama, Sport</td>\n",
       "      <td>7.6</td>\n",
       "      <td>87.0</td>\n",
       "      <td>Oakland A's general manager Billy Beane's succ...</td>\n",
       "      <td>379,573</td>\n",
       "      <td>$75.61M</td>\n",
       "    </tr>\n",
       "    <tr>\n",
       "      <th>920</th>\n",
       "      <td>The Skin I Live In</td>\n",
       "      <td>2011-01-01</td>\n",
       "      <td>120</td>\n",
       "      <td>Drama, Horror, Thriller</td>\n",
       "      <td>7.6</td>\n",
       "      <td>70.0</td>\n",
       "      <td>A brilliant plastic surgeon, haunted by past t...</td>\n",
       "      <td>141,803</td>\n",
       "      <td>$3.19M</td>\n",
       "    </tr>\n",
       "  </tbody>\n",
       "</table>\n",
       "<p>187 rows × 9 columns</p>\n",
       "</div>"
      ],
      "text/plain": [
       "                   name       year  runtime                      genre  \\\n",
       "9             Inception 2010-01-01      148  Action, Adventure, Sci-Fi   \n",
       "19             Parasite 2019-01-01      132    Comedy, Drama, Thriller   \n",
       "20         Interstellar 2014-01-01      169   Adventure, Drama, Sci-Fi   \n",
       "34             Whiplash 2014-01-01      106               Drama, Music   \n",
       "35     The Intouchables 2011-01-01      112   Biography, Comedy, Drama   \n",
       "..                  ...        ...      ...                        ...   \n",
       "915       Despicable Me 2010-01-01       95   Animation, Comedy, Crime   \n",
       "916               50/50 2011-01-01      100     Comedy, Drama, Romance   \n",
       "917            Kick-Ass 2010-01-01      117      Action, Comedy, Crime   \n",
       "919           Moneyball 2011-01-01      133    Biography, Drama, Sport   \n",
       "920  The Skin I Live In 2011-01-01      120    Drama, Horror, Thriller   \n",
       "\n",
       "     rating  metascore                                           timeline  \\\n",
       "9       8.8       74.0  A thief who steals corporate secrets through t...   \n",
       "19      8.6       96.0  Greed and class discrimination threaten the ne...   \n",
       "20      8.6       74.0  A team of explorers travel through a wormhole ...   \n",
       "34      8.5       88.0  A promising young drummer enrolls at a cut-thr...   \n",
       "35      8.5       57.0  After he becomes a quadriplegic from a paragli...   \n",
       "..      ...        ...                                                ...   \n",
       "915     7.6       72.0  When a criminal mastermind uses a trio of orph...   \n",
       "916     7.6       72.0  Inspired by a true story, a comedy centered on...   \n",
       "917     7.6       66.0  Dave Lizewski is an unnoticed high school stud...   \n",
       "919     7.6       87.0  Oakland A's general manager Billy Beane's succ...   \n",
       "920     7.6       70.0  A brilliant plastic surgeon, haunted by past t...   \n",
       "\n",
       "         votes     gross  \n",
       "9    2,113,984  $292.58M  \n",
       "19     608,406   $53.37M  \n",
       "20   1,558,558  $188.02M  \n",
       "34     738,672   $13.09M  \n",
       "35     778,379   $13.18M  \n",
       "..         ...       ...  \n",
       "915    507,818  $251.51M  \n",
       "916    318,164   $35.01M  \n",
       "917    530,801   $48.07M  \n",
       "919    379,573   $75.61M  \n",
       "920    141,803    $3.19M  \n",
       "\n",
       "[187 rows x 9 columns]"
      ]
     },
     "execution_count": 124,
     "metadata": {},
     "output_type": "execute_result"
    }
   ],
   "source": [
    "percentage_10_20"
   ]
  },
  {
   "cell_type": "code",
   "execution_count": 125,
   "metadata": {},
   "outputs": [],
   "source": [
    "total_percentage_10_20 = round(100*percentage_10_20['year'].value_counts()/len(imdb['year']),2)"
   ]
  },
  {
   "cell_type": "code",
   "execution_count": 126,
   "metadata": {},
   "outputs": [
    {
     "data": {
      "text/plain": [
       "2014-01-01    3.75\n",
       "2013-01-01    3.21\n",
       "2010-01-01    2.68\n",
       "2016-01-01    2.68\n",
       "2017-01-01    2.54\n",
       "2015-01-01    2.41\n",
       "2011-01-01    2.14\n",
       "2012-01-01    2.01\n",
       "2019-01-01    2.01\n",
       "2018-01-01    1.61\n",
       "Name: year, dtype: float64"
      ]
     },
     "execution_count": 126,
     "metadata": {},
     "output_type": "execute_result"
    }
   ],
   "source": [
    "total_percentage_10_20"
   ]
  },
  {
   "cell_type": "markdown",
   "metadata": {},
   "source": [
    "# Question 7: Outline the 5 top genre that got the highest rating "
   ]
  },
  {
   "cell_type": "code",
   "execution_count": 127,
   "metadata": {},
   "outputs": [],
   "source": [
    "genre_rating = imdb.drop(['runtime','metascore','timeline','votes','gross'], axis = 1)"
   ]
  },
  {
   "cell_type": "code",
   "execution_count": 128,
   "metadata": {},
   "outputs": [
    {
     "data": {
      "text/html": [
       "<div>\n",
       "<style scoped>\n",
       "    .dataframe tbody tr th:only-of-type {\n",
       "        vertical-align: middle;\n",
       "    }\n",
       "\n",
       "    .dataframe tbody tr th {\n",
       "        vertical-align: top;\n",
       "    }\n",
       "\n",
       "    .dataframe thead th {\n",
       "        text-align: right;\n",
       "    }\n",
       "</style>\n",
       "<table border=\"1\" class=\"dataframe\">\n",
       "  <thead>\n",
       "    <tr style=\"text-align: right;\">\n",
       "      <th></th>\n",
       "      <th>name</th>\n",
       "      <th>year</th>\n",
       "      <th>genre</th>\n",
       "      <th>rating</th>\n",
       "    </tr>\n",
       "  </thead>\n",
       "  <tbody>\n",
       "    <tr>\n",
       "      <th>0</th>\n",
       "      <td>The Shawshank Redemption</td>\n",
       "      <td>1994-01-01</td>\n",
       "      <td>Drama</td>\n",
       "      <td>9.3</td>\n",
       "    </tr>\n",
       "    <tr>\n",
       "      <th>1</th>\n",
       "      <td>The Godfather</td>\n",
       "      <td>1972-01-01</td>\n",
       "      <td>Crime, Drama</td>\n",
       "      <td>9.2</td>\n",
       "    </tr>\n",
       "    <tr>\n",
       "      <th>3</th>\n",
       "      <td>The Dark Knight</td>\n",
       "      <td>2008-01-01</td>\n",
       "      <td>Action, Crime, Drama</td>\n",
       "      <td>9.0</td>\n",
       "    </tr>\n",
       "    <tr>\n",
       "      <th>4</th>\n",
       "      <td>The Godfather: Part II</td>\n",
       "      <td>1974-01-01</td>\n",
       "      <td>Crime, Drama</td>\n",
       "      <td>9.0</td>\n",
       "    </tr>\n",
       "    <tr>\n",
       "      <th>5</th>\n",
       "      <td>12 Angry Men</td>\n",
       "      <td>1957-01-01</td>\n",
       "      <td>Crime, Drama</td>\n",
       "      <td>9.0</td>\n",
       "    </tr>\n",
       "    <tr>\n",
       "      <th>...</th>\n",
       "      <td>...</td>\n",
       "      <td>...</td>\n",
       "      <td>...</td>\n",
       "      <td>...</td>\n",
       "    </tr>\n",
       "    <tr>\n",
       "      <th>991</th>\n",
       "      <td>Kelly's Heroes</td>\n",
       "      <td>1970-01-01</td>\n",
       "      <td>Adventure, Comedy, War</td>\n",
       "      <td>7.6</td>\n",
       "    </tr>\n",
       "    <tr>\n",
       "      <th>993</th>\n",
       "      <td>The Jungle Book</td>\n",
       "      <td>1967-01-01</td>\n",
       "      <td>Animation, Adventure, Family</td>\n",
       "      <td>7.6</td>\n",
       "    </tr>\n",
       "    <tr>\n",
       "      <th>994</th>\n",
       "      <td>A Hard Day's Night</td>\n",
       "      <td>1964-01-01</td>\n",
       "      <td>Comedy, Musical</td>\n",
       "      <td>7.6</td>\n",
       "    </tr>\n",
       "    <tr>\n",
       "      <th>997</th>\n",
       "      <td>Shane</td>\n",
       "      <td>1953-01-01</td>\n",
       "      <td>Drama, Western</td>\n",
       "      <td>7.6</td>\n",
       "    </tr>\n",
       "    <tr>\n",
       "      <th>998</th>\n",
       "      <td>From Here to Eternity</td>\n",
       "      <td>1953-01-01</td>\n",
       "      <td>Drama, Romance, War</td>\n",
       "      <td>7.6</td>\n",
       "    </tr>\n",
       "  </tbody>\n",
       "</table>\n",
       "<p>747 rows × 4 columns</p>\n",
       "</div>"
      ],
      "text/plain": [
       "                         name       year                         genre  rating\n",
       "0    The Shawshank Redemption 1994-01-01                         Drama     9.3\n",
       "1               The Godfather 1972-01-01                  Crime, Drama     9.2\n",
       "3             The Dark Knight 2008-01-01          Action, Crime, Drama     9.0\n",
       "4      The Godfather: Part II 1974-01-01                  Crime, Drama     9.0\n",
       "5                12 Angry Men 1957-01-01                  Crime, Drama     9.0\n",
       "..                        ...        ...                           ...     ...\n",
       "991            Kelly's Heroes 1970-01-01        Adventure, Comedy, War     7.6\n",
       "993           The Jungle Book 1967-01-01  Animation, Adventure, Family     7.6\n",
       "994        A Hard Day's Night 1964-01-01               Comedy, Musical     7.6\n",
       "997                     Shane 1953-01-01                Drama, Western     7.6\n",
       "998     From Here to Eternity 1953-01-01           Drama, Romance, War     7.6\n",
       "\n",
       "[747 rows x 4 columns]"
      ]
     },
     "execution_count": 128,
     "metadata": {},
     "output_type": "execute_result"
    }
   ],
   "source": [
    "genre_rating"
   ]
  },
  {
   "cell_type": "code",
   "execution_count": 129,
   "metadata": {},
   "outputs": [
    {
     "data": {
      "text/html": [
       "<div>\n",
       "<style scoped>\n",
       "    .dataframe tbody tr th:only-of-type {\n",
       "        vertical-align: middle;\n",
       "    }\n",
       "\n",
       "    .dataframe tbody tr th {\n",
       "        vertical-align: top;\n",
       "    }\n",
       "\n",
       "    .dataframe thead th {\n",
       "        text-align: right;\n",
       "    }\n",
       "</style>\n",
       "<table border=\"1\" class=\"dataframe\">\n",
       "  <thead>\n",
       "    <tr style=\"text-align: right;\">\n",
       "      <th></th>\n",
       "      <th>name</th>\n",
       "      <th>year</th>\n",
       "      <th>genre</th>\n",
       "      <th>rating</th>\n",
       "    </tr>\n",
       "  </thead>\n",
       "  <tbody>\n",
       "    <tr>\n",
       "      <th>0</th>\n",
       "      <td>The Shawshank Redemption</td>\n",
       "      <td>1994-01-01</td>\n",
       "      <td>Drama</td>\n",
       "      <td>9.3</td>\n",
       "    </tr>\n",
       "    <tr>\n",
       "      <th>1</th>\n",
       "      <td>The Godfather</td>\n",
       "      <td>1972-01-01</td>\n",
       "      <td>Crime, Drama</td>\n",
       "      <td>9.2</td>\n",
       "    </tr>\n",
       "    <tr>\n",
       "      <th>3</th>\n",
       "      <td>The Dark Knight</td>\n",
       "      <td>2008-01-01</td>\n",
       "      <td>Action, Crime, Drama</td>\n",
       "      <td>9.0</td>\n",
       "    </tr>\n",
       "    <tr>\n",
       "      <th>4</th>\n",
       "      <td>The Godfather: Part II</td>\n",
       "      <td>1974-01-01</td>\n",
       "      <td>Crime, Drama</td>\n",
       "      <td>9.0</td>\n",
       "    </tr>\n",
       "    <tr>\n",
       "      <th>5</th>\n",
       "      <td>12 Angry Men</td>\n",
       "      <td>1957-01-01</td>\n",
       "      <td>Crime, Drama</td>\n",
       "      <td>9.0</td>\n",
       "    </tr>\n",
       "  </tbody>\n",
       "</table>\n",
       "</div>"
      ],
      "text/plain": [
       "                       name       year                 genre  rating\n",
       "0  The Shawshank Redemption 1994-01-01                 Drama     9.3\n",
       "1             The Godfather 1972-01-01          Crime, Drama     9.2\n",
       "3           The Dark Knight 2008-01-01  Action, Crime, Drama     9.0\n",
       "4    The Godfather: Part II 1974-01-01          Crime, Drama     9.0\n",
       "5              12 Angry Men 1957-01-01          Crime, Drama     9.0"
      ]
     },
     "execution_count": 129,
     "metadata": {},
     "output_type": "execute_result"
    }
   ],
   "source": [
    "genre_rating.nlargest(5, ['rating'])"
   ]
  },
  {
   "cell_type": "markdown",
   "metadata": {},
   "source": [
    "# Question 8: "
   ]
  },
  {
   "cell_type": "code",
   "execution_count": 131,
   "metadata": {},
   "outputs": [
    {
     "data": {
      "text/plain": [
       "130    19\n",
       "100    18\n",
       "102    18\n",
       "101    17\n",
       "129    17\n",
       "122    17\n",
       "120    17\n",
       "108    16\n",
       "113    16\n",
       "127    15\n",
       "118    15\n",
       "107    14\n",
       "105    13\n",
       "119    12\n",
       "117    12\n",
       "132    12\n",
       "112    12\n",
       "115    12\n",
       "103    12\n",
       "134    11\n",
       "110    11\n",
       "109    11\n",
       "121    11\n",
       "104    11\n",
       "126    11\n",
       "95     10\n",
       "138    10\n",
       "99     10\n",
       "116    10\n",
       "106    10\n",
       "123     9\n",
       "98      9\n",
       "136     9\n",
       "137     9\n",
       "128     8\n",
       "124     8\n",
       "133     8\n",
       "114     8\n",
       "141     8\n",
       "144     8\n",
       "135     8\n",
       "93      8\n",
       "94      8\n",
       "96      8\n",
       "140     7\n",
       "90      7\n",
       "92      7\n",
       "170     6\n",
       "88      6\n",
       "178     6\n",
       "125     6\n",
       "153     6\n",
       "131     6\n",
       "97      6\n",
       "139     6\n",
       "147     6\n",
       "143     6\n",
       "152     6\n",
       "157     5\n",
       "146     5\n",
       "111     5\n",
       "87      5\n",
       "154     5\n",
       "165     4\n",
       "80      4\n",
       "155     4\n",
       "169     4\n",
       "142     4\n",
       "149     4\n",
       "86      4\n",
       "145     4\n",
       "161     4\n",
       "89      4\n",
       "162     4\n",
       "188     3\n",
       "181     3\n",
       "85      3\n",
       "180     3\n",
       "150     3\n",
       "91      3\n",
       "172     3\n",
       "156     3\n",
       "158     2\n",
       "81      2\n",
       "75      2\n",
       "202     2\n",
       "197     2\n",
       "82      2\n",
       "151     2\n",
       "83      2\n",
       "84      2\n",
       "148     2\n",
       "189     2\n",
       "164     2\n",
       "78      1\n",
       "76      1\n",
       "72      1\n",
       "238     1\n",
       "228     1\n",
       "192     1\n",
       "224     1\n",
       "212     1\n",
       "209     1\n",
       "207     1\n",
       "201     1\n",
       "196     1\n",
       "195     1\n",
       "194     1\n",
       "193     1\n",
       "191     1\n",
       "159     1\n",
       "186     1\n",
       "183     1\n",
       "179     1\n",
       "175     1\n",
       "174     1\n",
       "168     1\n",
       "166     1\n",
       "163     1\n",
       "160     1\n",
       "66      1\n",
       "Name: runtime, dtype: int64"
      ]
     },
     "execution_count": 131,
     "metadata": {},
     "output_type": "execute_result"
    }
   ],
   "source": [
    "pd.set_option('display.max_rows', None)\n",
    "imdb['runtime'].value_counts()"
   ]
  },
  {
   "cell_type": "code",
   "execution_count": null,
   "metadata": {},
   "outputs": [],
   "source": []
  }
 ],
 "metadata": {
  "kernelspec": {
   "display_name": "Python 3",
   "language": "python",
   "name": "python3"
  },
  "language_info": {
   "codemirror_mode": {
    "name": "ipython",
    "version": 3
   },
   "file_extension": ".py",
   "mimetype": "text/x-python",
   "name": "python",
   "nbconvert_exporter": "python",
   "pygments_lexer": "ipython3",
   "version": "3.8.5"
  }
 },
 "nbformat": 4,
 "nbformat_minor": 4
}
